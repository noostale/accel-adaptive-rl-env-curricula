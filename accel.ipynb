{
 "cells": [
  {
   "cell_type": "markdown",
   "metadata": {},
   "source": [
    "# Example usage of gymnasium with minigrid"
   ]
  },
  {
   "cell_type": "code",
   "execution_count": 4,
   "metadata": {},
   "outputs": [
    {
     "name": "stdout",
     "output_type": "stream",
     "text": [
      "Episode finished\n"
     ]
    }
   ],
   "source": [
    "import gymnasium as gym\n",
    "import minigrid\n",
    "\n",
    "# Create the environment\n",
    "env = gym.make(\"MiniGrid-Empty-5x5-v0\", render_mode=\"human\")\n",
    "\n",
    "# Reset the environment to start a new episode\n",
    "obs, info = env.reset()\n",
    "\n",
    "# Render the initial state of the environment\n",
    "env.render()\n",
    "\n",
    "# Take num_steps random actions in the environment\n",
    "for _ in range(50):\n",
    "    # Sample a random action\n",
    "    action = env.action_space.sample()\n",
    "    \n",
    "    # Step through the environment with the chosen action\n",
    "    obs, reward, terminated, truncated, info = env.step(action)\n",
    "    \n",
    "    # Render the environment after each action\n",
    "    env.render()\n",
    "    \n",
    "    # Check if the episode is done\n",
    "    if terminated or truncated:\n",
    "        print(\"Episode finished\")\n",
    "        break\n",
    "\n",
    "# Close the environment\n",
    "env.close()\n"
   ]
  },
  {
   "cell_type": "markdown",
   "metadata": {},
   "source": [
    "# Example usage of gymnasium with CartPole-v1 and PPO"
   ]
  },
  {
   "cell_type": "markdown",
   "metadata": {},
   "source": [
    "Model train"
   ]
  },
  {
   "cell_type": "code",
   "execution_count": 1,
   "metadata": {},
   "outputs": [
    {
     "name": "stdout",
     "output_type": "stream",
     "text": [
      "Using cpu device\n",
      "Logging to ./ppo_cartpole_tensorboard/PPO_4\n"
     ]
    },
    {
     "name": "stderr",
     "output_type": "stream",
     "text": [
      "c:\\Users\\Emanuele\\miniconda3\\envs\\accel\\Lib\\site-packages\\stable_baselines3\\common\\evaluation.py:67: UserWarning: Evaluation environment is not wrapped with a ``Monitor`` wrapper. This may result in reporting modified episode lengths and rewards, if other wrappers happen to modify these. Consider wrapping environment first with ``Monitor`` wrapper.\n",
      "  warnings.warn(\n"
     ]
    },
    {
     "name": "stdout",
     "output_type": "stream",
     "text": [
      "Eval num_timesteps=2000, episode_reward=112.60 +/- 13.18\n",
      "Episode length: 112.60 +/- 13.18\n",
      "---------------------------------\n",
      "| eval/              |          |\n",
      "|    mean_ep_length  | 113      |\n",
      "|    mean_reward     | 113      |\n",
      "| time/              |          |\n",
      "|    total_timesteps | 2000     |\n",
      "---------------------------------\n",
      "New best mean reward!\n",
      "Eval num_timesteps=4000, episode_reward=126.20 +/- 37.93\n",
      "Episode length: 126.20 +/- 37.93\n",
      "---------------------------------\n",
      "| eval/              |          |\n",
      "|    mean_ep_length  | 126      |\n",
      "|    mean_reward     | 126      |\n",
      "| time/              |          |\n",
      "|    total_timesteps | 4000     |\n",
      "---------------------------------\n",
      "New best mean reward!\n",
      "Eval num_timesteps=6000, episode_reward=141.40 +/- 35.57\n",
      "Episode length: 141.40 +/- 35.57\n",
      "---------------------------------\n",
      "| eval/              |          |\n",
      "|    mean_ep_length  | 141      |\n",
      "|    mean_reward     | 141      |\n",
      "| time/              |          |\n",
      "|    total_timesteps | 6000     |\n",
      "---------------------------------\n",
      "New best mean reward!\n",
      "Eval num_timesteps=8000, episode_reward=95.80 +/- 9.15\n",
      "Episode length: 95.80 +/- 9.15\n",
      "---------------------------------\n",
      "| eval/              |          |\n",
      "|    mean_ep_length  | 95.8     |\n",
      "|    mean_reward     | 95.8     |\n",
      "| time/              |          |\n",
      "|    total_timesteps | 8000     |\n",
      "---------------------------------\n",
      "---------------------------------\n",
      "| rollout/           |          |\n",
      "|    ep_len_mean     | 22.2     |\n",
      "|    ep_rew_mean     | 22.2     |\n",
      "| time/              |          |\n",
      "|    fps             | 2220     |\n",
      "|    iterations      | 1        |\n",
      "|    time_elapsed    | 3        |\n",
      "|    total_timesteps | 8192     |\n",
      "---------------------------------\n"
     ]
    }
   ],
   "source": [
    "import gymnasium as gym\n",
    "import numpy as np\n",
    "\n",
    "from stable_baselines3 import PPO\n",
    "from stable_baselines3.common.env_util import make_vec_env\n",
    "from stable_baselines3.common.callbacks import EvalCallback\n",
    "\n",
    "from stable_baselines3.common.monitor import Monitor\n",
    "\n",
    "# Create the Gymnasium environment\n",
    "env_id = \"CartPole-v1\"\n",
    "env = gym.make(env_id)\n",
    "\n",
    "# Optionally, you can create a vectorized environment for parallel training\n",
    "# This can speed up training by using multiple environments simultaneously\n",
    "# Here, we create 4 parallel environments\n",
    "vec_env = make_vec_env(env_id, n_envs=4)\n",
    "\n",
    "# Initialize the PPO agent\n",
    "model = PPO(\n",
    "    \"MlpPolicy\",          # Multi-layer Perceptron policy\n",
    "    vec_env,              # Vectorized environment\n",
    "    verbose=1,            # Verbosity level (0: no output, 1: info)\n",
    "    tensorboard_log=\"./ppo_cartpole_tensorboard/\"  # Path for TensorBoard logs\n",
    ")\n",
    "\n",
    "# Set up an evaluation callback to monitor the agent's performance\n",
    "eval_env = gym.make(env_id)\n",
    "eval_callback = EvalCallback(\n",
    "    eval_env,\n",
    "    best_model_save_path='./logs/',\n",
    "    log_path='./logs/',\n",
    "    eval_freq=500,        # Evaluate the agent every 500 steps\n",
    "    n_eval_episodes=5,    # Number of episodes for evaluation\n",
    "    deterministic=True,\n",
    "    render=False\n",
    ")\n",
    "\n",
    "# Train the agent for a total of 100,000 steps, use the eval_callback every 500 steps\n",
    "model.learn(total_timesteps=100, callback=eval_callback)\n",
    "\n",
    "# Save the trained model\n",
    "model.save(\"ppo_cartpole\")"
   ]
  },
  {
   "cell_type": "markdown",
   "metadata": {},
   "source": [
    "Model eval"
   ]
  },
  {
   "cell_type": "code",
   "execution_count": 2,
   "metadata": {},
   "outputs": [
    {
     "name": "stdout",
     "output_type": "stream",
     "text": [
      "Episode 1: Total Reward = 283.0\n",
      "Episode 2: Total Reward = 995.0\n",
      "Episode 3: Total Reward = 397.0\n",
      "Episode 4: Total Reward = 423.0\n",
      "Episode 5: Total Reward = 601.0\n",
      "Episode 6: Total Reward = 124.0\n",
      "Episode 7: Total Reward = 278.0\n",
      "Episode 8: Total Reward = 1015.0\n",
      "Episode 9: Total Reward = 171.0\n",
      "Episode 10: Total Reward = 132.0\n"
     ]
    }
   ],
   "source": [
    "# Load the environment\n",
    "env_id = \"CartPole-v1\"\n",
    "env = gym.make(env_id, render_mode=\"human\")\n",
    "\n",
    "# To demonstrate loading the model, you can reload it as follows:\n",
    "model = PPO.load(\"ppo_cartpole\", env=vec_env)\n",
    "\n",
    "# Evaluate the trained agent\n",
    "episodes = 10\n",
    "for episode in range(1, episodes + 1):\n",
    "    obs, info = env.reset()\n",
    "    done = False\n",
    "    total_reward = 0\n",
    "    while not done:\n",
    "        action, _states = model.predict(obs, deterministic=True)\n",
    "        obs, reward, done, truncated, info = env.step(action)\n",
    "        total_reward += reward\n",
    "        # Optionally, render the environment (requires a display)\n",
    "        # env.render()\n",
    "    print(f\"Episode {episode}: Total Reward = {total_reward}\")\n",
    "\n",
    "# Close the environments\n",
    "env.close()\n",
    "eval_env.close()\n",
    "vec_env.close()\n"
   ]
  }
 ],
 "metadata": {
  "kernelspec": {
   "display_name": "accel",
   "language": "python",
   "name": "python3"
  },
  "language_info": {
   "codemirror_mode": {
    "name": "ipython",
    "version": 3
   },
   "file_extension": ".py",
   "mimetype": "text/x-python",
   "name": "python",
   "nbconvert_exporter": "python",
   "pygments_lexer": "ipython3",
   "version": "3.11.11"
  }
 },
 "nbformat": 4,
 "nbformat_minor": 2
}
